{
 "cells": [
  {
   "attachments": {},
   "cell_type": "markdown",
   "metadata": {},
   "source": [
    "### Importing Libraries"
   ]
  },
  {
   "cell_type": "code",
   "execution_count": 1,
   "metadata": {},
   "outputs": [],
   "source": [
    "import pandas as pd\n",
    "import numpy as np\n",
    "import warnings\n",
    "import re\n",
    "\n",
    "warnings.filterwarnings(\"ignore\")"
   ]
  },
  {
   "attachments": {},
   "cell_type": "markdown",
   "metadata": {},
   "source": [
    "### Read the Data"
   ]
  },
  {
   "cell_type": "code",
   "execution_count": null,
   "metadata": {},
   "outputs": [],
   "source": [
    "# # Read the Data\n",
    "# df_gameLog = pd.read_csv(\"https://github.com/sharmajee499/MinneMUDAC2023/blob/main/Data/GameLogs.csv?raw=true\", parse_dates=[0])\n",
    "\n",
    "# df_gameLog['Year'] = df_gameLog['Date'].dt.year\n",
    "\n",
    "# # Read the Original-Schedule Data\n",
    "# df_originalSchedule = pd.read_csv(\"https://media.githubusercontent.com/media/sharmajee499/MinneMUDAC2023/main/Data/OriginalSchedules.csv\", parse_dates=[0])\n",
    "\n",
    "# # Head the Data\n",
    "# df_gameLog.head()"
   ]
  },
  {
   "cell_type": "code",
   "execution_count": 3,
   "metadata": {},
   "outputs": [],
   "source": [
    "# # Removing anything that that player and name in the column name\n",
    "# li = df_gameLog.columns.tolist()\n",
    "\n",
    "# for i in li:\n",
    "#     if(re.search(\"_Player\\d_Name\", i)):\n",
    "#         df_gameLog = df_gameLog.drop(i, axis=1)"
   ]
  },
  {
   "cell_type": "code",
   "execution_count": 134,
   "metadata": {},
   "outputs": [],
   "source": [
    "must_col = ['Date', 'NumberofGames', 'DayofWeek', 'VisitingTeam',\n",
    "            'VisitingTeamLeague', 'VisitingTeamGameNumber', 'HomeTeam',\n",
    "            'HomeTeamLeague', 'HomeTeamGameNumber', 'VistingTeamScore',\n",
    "            'HomeTeamScore', 'NumberofOuts', 'BallParkID', 'Attendance', ]\n",
    "\n",
    "gameScore_col = ['VisitingTeamOffense_AtBats', 'VisitingTeamOffense_Hits',\n",
    "                'VisitingTeamOffense_Doubles', 'VisitingTeamOffense_Triples',\n",
    "            'VisitingTeamOffense_Homeruns', 'VisitingTeamOffense_RBIs',\n",
    "            'VisitingTeamOffense_SacrificeHits',\n",
    "            'VisitingTeamOffense_SacrificeFlies', 'VisitingTeamOffense_HitbyPitch',\n",
    "            'VisitingTeamOffense_Walks', 'VisitingTeamOffense_IntentionalWalks',\n",
    "            'VisitingTeamOffense_Strickouts', 'VisitingTeamOffense_StolenBases',\n",
    "            'VisitingTeamOffense_CaughtStealing',\n",
    "            'VisitingTeamOffense_GroundedintoDoublePlay',\n",
    "            'VisitingTeamOffense_AwardedFirstonCatcherInterference',\n",
    "            'VisitingTeamOffense_LeftOnBase', 'VisitingTeamPitchers_PitchersUsed',\n",
    "            'VisitingTeamPitchers_IndividualEarnedRuns',\n",
    "            'VisitingTeamPitchers_TeamEarnedRuns',\n",
    "            'VisitingTeamPitchers_WildPitches', 'VisitingTeamPitchers_Balks',\n",
    "            'VisitingTeamDefense_PutOuts', 'VisitingTeamDefense_Assists',\n",
    "            'VisitingTeamDefense_Errors', 'VisitingTeamDefense_PassedBalls',\n",
    "            'VisitingTeamDefense_DoublePlays', 'VisitingTeamDefense_TriplePlays',\n",
    "            'HomeTeamOffense_AtBats', 'HomeTeamOffense_Hits',\n",
    "            'HomeTeamOffense_Doubles', 'HomeTeamOffense_Triples',\n",
    "            'HomeTeamOffense_Homeruns', 'HomeTeamOffense_RBIs',\n",
    "            'HomeTeamOffense_SacrificeHits', 'HomeTeamOffense_SacrificeFlies',\n",
    "            'HomeTeamOffense_HitbyPitch', 'HomeTeamOffense_Walks',\n",
    "            'HomeTeamOffense_IntentionalWalks', 'HomeTeamOffense_Strickouts',\n",
    "            'HomeTeamOffense_StolenBases', 'HomeTeamOffense_CaughtStealing',\n",
    "            'HomeTeamOffense_GroundedintoDoublePlay',\n",
    "            'HomeTeamOffense_AwardedFirstonCatcherInterference',\n",
    "            'HomeTeamOffense_LeftOnBase', 'HomeTeamPitchers_PitchersUsed',\n",
    "            'HomeTeamPitchers_IndividualEarnedRuns',\n",
    "            'HomeTeamPitchers_TeamEarnedRuns', 'HomeTeamPitchers_WildPitches',\n",
    "            'HomeTeamPitchers_Balks', 'HomeTeamDefense_PutOuts',\n",
    "            'HomeTeamDefense_Assists', 'HomeTeamDefense_Errors',\n",
    "            'HomeTeamDefense_PassedBalls', 'HomeTeamDefense_DoublePlays',\n",
    "            'HomeTeamDefense_TriplePlays']\n",
    "\n",
    "player_col = ['HomePlateUmp_ID', 'HomePlateUmp_Name', '1BUmp_ID', '1BUmp_Name',\n",
    "            '2BUmp_ID', '2BUmp_Name', '3BUmp_ID', '3BUmp_Name', 'LFUmp_ID',\n",
    "            'LFUmp_Name', 'RFUmp_ID', 'RFUmp_Name', 'VisitingTeamManager_ID',\n",
    "            'VisitingTeamManager_Name', 'HomeTeamManager_ID',\n",
    "            'HomeTeamManager_Name', 'WinningPitcher_ID', 'WinningPitcher_Name',\n",
    "            'LosingPitcher_ID', 'LosingPitcher_Name', 'SavingPitcher_ID',\n",
    "            'SavingPitcher_Name', 'GameWinningRBIBatter_ID',\n",
    "            'GameWinningRBIBatter_Name', 'VisitingTeam_StartingPitcher_ID',\n",
    "            'VisitingTeam_StartingPitcher_Name', 'HomeTeam_StartingPitcher_ID',\n",
    "            'HomeTeam_StartingPitcher_Name', 'VisitingTeam_Player1_ID',\n",
    "            'VisitingTeam_Player1_Name', 'VisitingTeam_Player1_Position',\n",
    "            'VisitingTeam_Player2_ID', 'VisitingTeam_Player2_Name',\n",
    "            'VisitingTeam_Player2_Position', 'VisitingTeam_Player3_ID',\n",
    "            'VisitingTeam_Player3_Name', 'VisitingTeam_Player3_Position',\n",
    "            'VisitingTeam_Player4_ID', 'VisitingTeam_Player4_Name',\n",
    "            'VisitingTeam_Player4_Position', 'VisitingTeam_Player5_ID',\n",
    "            'VisitingTeam_Player5_Name', 'VisitingTeam_Player5_Position',\n",
    "            'VisitingTeam_Player6_ID', 'VisitingTeam_Player6_Name',\n",
    "            'VisitingTeam_Player6_Position', 'VisitingTeam_Player7_ID',\n",
    "            'VisitingTeam_Player7_Name', 'VisitingTeam_Player7_Position',\n",
    "            'VisitingTeam_Player8_ID', 'VisitingTeam_Player8_Name',\n",
    "            'VisitingTeam_Player8_Position', 'VisitingTeam_Player9_ID',\n",
    "            'VisitingTeam_Player9_Name', 'VisitingTeam_Player9_Position',\n",
    "            'HomeTeam_Player1_ID', 'HomeTeam_Player1_Name',\n",
    "            'HomeTeam_Player1_Position', 'HomeTeam_Player2_ID',\n",
    "            'HomeTeam_Player2_Name', 'HomeTeam_Player2_Position',\n",
    "            'HomeTeam_Player3_ID', 'HomeTeam_Player3_Name',\n",
    "            'HomeTeam_Player3_Position', 'HomeTeam_Player4_ID',\n",
    "            'HomeTeam_Player4_Name', 'HomeTeam_Player4_Position',\n",
    "            'HomeTeam_Player5_ID', 'HomeTeam_Player5_Name',\n",
    "            'HomeTeam_Player5_Position', 'HomeTeam_Player6_ID',\n",
    "            'HomeTeam_Player6_Name', 'HomeTeam_Player6_Position',\n",
    "            'HomeTeam_Player7_ID', 'HomeTeam_Player7_Name',\n",
    "            'HomeTeam_Player7_Position', 'HomeTeam_Player8_ID',\n",
    "            'HomeTeam_Player8_Name', 'HomeTeam_Player8_Position',\n",
    "            'HomeTeam_Player9_ID', 'HomeTeam_Player9_Name',\n",
    "            'HomeTeam_Player9_Position']"
   ]
  },
  {
   "attachments": {},
   "cell_type": "markdown",
   "metadata": {},
   "source": [
    "### Helper Function"
   ]
  },
  {
   "cell_type": "code",
   "execution_count": 135,
   "metadata": {},
   "outputs": [],
   "source": [
    "# List the score \n",
    "vlist=['VisitingTeamOffense_AtBats',\n",
    " 'VisitingTeamOffense_Hits',\n",
    " 'VisitingTeamOffense_Doubles',\n",
    " 'VisitingTeamOffense_Triples',\n",
    " 'VisitingTeamOffense_Homeruns',\n",
    " 'VisitingTeamOffense_RBIs',\n",
    " 'VisitingTeamOffense_SacrificeHits',\n",
    " 'VisitingTeamOffense_SacrificeFlies',\n",
    " 'VisitingTeamOffense_HitbyPitch',\n",
    " 'VisitingTeamOffense_Walks',\n",
    " 'VisitingTeamOffense_IntentionalWalks',\n",
    " 'VisitingTeamOffense_Strickouts',\n",
    " 'VisitingTeamOffense_StolenBases',\n",
    " 'VisitingTeamOffense_CaughtStealing',\n",
    " 'VisitingTeamOffense_GroundedintoDoublePlay',\n",
    " 'VisitingTeamOffense_AwardedFirstonCatcherInterference',\n",
    " 'VisitingTeamOffense_LeftOnBase',\n",
    " 'VisitingTeamPitchers_PitchersUsed',\n",
    " 'VisitingTeamPitchers_IndividualEarnedRuns',\n",
    " 'VisitingTeamPitchers_TeamEarnedRuns',\n",
    " 'VisitingTeamPitchers_WildPitches',\n",
    " 'VisitingTeamPitchers_Balks',\n",
    " 'VisitingTeamDefense_PutOuts',\n",
    " 'VisitingTeamDefense_Assists',\n",
    " 'VisitingTeamDefense_Errors',\n",
    " 'VisitingTeamDefense_PassedBalls',\n",
    " 'VisitingTeamDefense_DoublePlays',\n",
    " 'VisitingTeamDefense_TriplePlays']\n",
    "\n",
    "def PrevStats(df):\n",
    "    for v in vlist:\n",
    "        h=v.replace('Visiting','Home')\n",
    "        teams=[]\n",
    "        teamdict={}\n",
    "        df=df.astype(dtype={\"Year\":int})\n",
    "        i=0\n",
    "        for b,row in df.iterrows():\n",
    "            if row['HomeTeam'] not in teams:\n",
    "                teams.append(row['HomeTeam'])\n",
    "        for year in range(df['Year'].min(),df['Year'].max()+1):\n",
    "            newdf=df[df['Year']==year]\n",
    "            for t in teams:\n",
    "                teamdict[t]=[None,0]\n",
    "            df_dict = newdf.to_dict('records')\n",
    "            for row in df_dict:\n",
    "                df.loc[i,'HTPrev'+h.split('_')[1]]=teamdict[row['HomeTeam']][0]\n",
    "                df.loc[i,'VTPrev'+v.split('_')[1]]=teamdict[row['VisitingTeam']][0]\n",
    "                df.loc[i,'HTCumu'+h.split('_')[1]]=teamdict[row['HomeTeam']][1]\n",
    "                df.loc[i,'VTCumu'+v.split('_')[1]]=teamdict[row['VisitingTeam']][1]\n",
    "                teamdict[row['HomeTeam']][0]=row[h]\n",
    "                teamdict[row['VisitingTeam']][0]=row[v]\n",
    "                teamdict[row['HomeTeam']][1]+=row[h]\n",
    "                teamdict[row['VisitingTeam']][1]+=row[v]\n",
    "                i+=1\n",
    "    return(df)"
   ]
  },
  {
   "cell_type": "code",
   "execution_count": 136,
   "metadata": {},
   "outputs": [],
   "source": [
    "# # Apply the 'BIG' Function\n",
    "# df_gameLogStsts = PrevStats(df_gameLog)"
   ]
  },
  {
   "cell_type": "code",
   "execution_count": null,
   "metadata": {},
   "outputs": [],
   "source": [
    "# df_gameLogStatClean = df_gameLogStsts.drop(gameScore_col, axis=1)\n",
    "# df_gameLogStatClean.head()"
   ]
  },
  {
   "cell_type": "code",
   "execution_count": 138,
   "metadata": {},
   "outputs": [],
   "source": [
    "# # Remove the Double Header (We keep the rows where 'NumberofGames' = 0)\n",
    "# df_gameLogStatClean = df_gameLogStatClean[df_gameLogStatClean['NumberofGames'] == 0]"
   ]
  },
  {
   "cell_type": "code",
   "execution_count": 139,
   "metadata": {},
   "outputs": [],
   "source": [
    "# # Remove the rows where attendence is null\n",
    "# df_gameLogStatClean = df_gameLogStatClean[df_gameLogStatClean['Attendance'].notna()]"
   ]
  },
  {
   "cell_type": "code",
   "execution_count": 84,
   "metadata": {},
   "outputs": [],
   "source": [
    "# # ###path for gameloge\n",
    "# # path2 = \"Data/GameLogs copy.csv\"\n",
    "# # df = pd.read_csv(path2, encoding='utf_16', nrows=4)\n",
    "# # df2 = df.copy()\n",
    "\n",
    "# ###extract month and year\n",
    "# #df2[\"Year\"]= df2[\"Date\"].astype(str).str[:4]\n",
    "# df_gameLogStatClean[\"Month\"]= df_gameLogStatClean[\"Date\"].dt.month.values.astype(str)\n",
    "\n",
    "# ###gas_location based of 8 region\n",
    "# df_gasId = pd.read_csv(\"https://media.githubusercontent.com/media/sharmajee499/MinneMUDAC2023/main/Data/teams_gasid_div.csv\", header = 0)\n",
    "\n",
    "# df_gasId['eai2']= df_gasId['eai2'].str.upper()\n",
    "# df_gasId['region']= df_gasId['eai1']+\"_\"+df_gasId['eai2']\n",
    "# df_gasId= df_gasId[[\"Abb\", \"region\", \"DIV\"]]\n",
    "\n",
    "\n",
    "# # ### merging regions with location\n",
    "# df_gasIDLogMerge = df_gameLogStatClean.merge(df_gasId, left_on = 'HomeTeam', right_on = 'Abb', how = 'left' )\n",
    "\n",
    "\n",
    "# ### read Gas price File\n",
    "# df_gas = pd.read_csv(\"https://media.githubusercontent.com/media/sharmajee499/MinneMUDAC2023/main/Data/gas_price_data.csv\")\n",
    "\n",
    "# #### unpovit the file\n",
    "# un_pivot = pd.melt(df_gas, id_vars = 'date', value_vars = ['PADD_1A', 'PADD_1B', 'PADD_1C', 'PADD_2', 'PADD_3', 'PADD_4', 'PADD_5A', 'PADD_5B'])\n",
    "# ### remove the last row\n",
    "# un_pivot_gas = un_pivot.iloc[:-1, :]\n",
    "\n",
    "# ###split the data\n",
    "# un_pivot_gas[['Month', 'Year']] = un_pivot_gas [\"date\"].apply(lambda x: pd.Series(str(x).split(\"-\")))\n",
    "\n",
    "\n",
    "# ### change the name of months with number\n",
    "\n",
    "# d = {\n",
    "#     'Jan': '1',\n",
    "#     'Feb': \"2\",\n",
    "#     'Mar': \"3\",\n",
    "#     'Apr': \"4\",\n",
    "#     'May': \"5\",\n",
    "#     'Jun': \"6\",\n",
    "#     'Jul': \"7\",\n",
    "#     'Aug': \"8\",\n",
    "#     'Sep': \"9\",\n",
    "#     'Oct': \"10\",\n",
    "#     'Nov': \"11\",\n",
    "#     'Dec': \"12\"\n",
    "# }\n",
    "\n",
    "# # Map the month name with month number\n",
    "# un_pivot_gas.Month = un_pivot_gas .Month.map(d)\n",
    "\n",
    "# # Change the 'Year' column to int\n",
    "# un_pivot_gas['Year'] = un_pivot_gas['Year'].astype(\"Int64\")\n",
    "\n",
    "\n",
    "\n",
    "# # df5 = df_gasIDLogMerge.merge(un_pivot_gas , left_on=['Month','Year','region'], right_on = ['Month','Year','variable'], how='left')\n",
    "\n",
    "# # df5 = df5.rename(columns={\"value\": \"Gas_Price\"})\n"
   ]
  },
  {
   "cell_type": "code",
   "execution_count": 141,
   "metadata": {},
   "outputs": [],
   "source": [
    "# df_gameLogStatClean.to_csv(\"df_gameLogStatClean.csv\", index=False)"
   ]
  },
  {
   "attachments": {},
   "cell_type": "markdown",
   "metadata": {},
   "source": [
    "# Start HERE"
   ]
  },
  {
   "attachments": {},
   "cell_type": "markdown",
   "metadata": {},
   "source": [
    "### Read the 'GameLogStats' Data\n",
    "\n",
    "This is cleaned data that doesn't have double header game as well as missing attendece rows. This data also consists the cumulative game score calculation. "
   ]
  },
  {
   "cell_type": "code",
   "execution_count": 144,
   "metadata": {},
   "outputs": [],
   "source": [
    "df_gameLogStatClean = pd.read_csv(\"https://media.githubusercontent.com/media/sharmajee499/MinneMUDAC2023/main/Data/df_gameLogStatClean.csv\")"
   ]
  },
  {
   "attachments": {},
   "cell_type": "markdown",
   "metadata": {},
   "source": [
    "### Atieh (Gas Pice Code Space)"
   ]
  },
  {
   "cell_type": "code",
   "execution_count": null,
   "metadata": {},
   "outputs": [],
   "source": []
  },
  {
   "cell_type": "code",
   "execution_count": null,
   "metadata": {},
   "outputs": [],
   "source": []
  },
  {
   "cell_type": "code",
   "execution_count": null,
   "metadata": {},
   "outputs": [],
   "source": []
  },
  {
   "attachments": {},
   "cell_type": "markdown",
   "metadata": {},
   "source": [
    "### Attach the Stadium Capacity Data"
   ]
  },
  {
   "cell_type": "code",
   "execution_count": 154,
   "metadata": {},
   "outputs": [],
   "source": [
    "# Add the Attendence Data\n",
    "\n",
    "# Read the BallPark Capacity data\n",
    "df_ballParkCapacity = pd.read_csv(\"https://media.githubusercontent.com/media/sharmajee499/MinneMUDAC2023/main/Data/df_ballParkCapacity.csv\")\n",
    "\n",
    "# Drop any index if exists\n",
    "df_ballParkCapacity.reset_index(drop=True, inplace=True)\n",
    "\n",
    "# Add the prefix to the columns name of the 'Ball_Park' Data(This is done because to separate the joining keys)\n",
    "\n",
    "df_ballParkCapacity = df_ballParkCapacity.add_suffix(\"_StdCap\")\n",
    "# Merge the Stadium capacity data with the \n",
    "# Will make new df\n",
    "\n",
    "df_gameLogStatCleanBallParkCap = pd.merge(df_gameLogStatClean, df_ballParkCapacity, how='left', \n",
    "                                          left_on=['BallParkID','Year'], right_on=['parkID_StdCap', 'Year_StdCap']).reset_index(drop=True)"
   ]
  },
  {
   "cell_type": "code",
   "execution_count": null,
   "metadata": {},
   "outputs": [],
   "source": []
  }
 ],
 "metadata": {
  "kernelspec": {
   "display_name": "mudac",
   "language": "python",
   "name": "python3"
  },
  "language_info": {
   "codemirror_mode": {
    "name": "ipython",
    "version": 3
   },
   "file_extension": ".py",
   "mimetype": "text/x-python",
   "name": "python",
   "nbconvert_exporter": "python",
   "pygments_lexer": "ipython3",
   "version": "3.9.16"
  },
  "orig_nbformat": 4
 },
 "nbformat": 4,
 "nbformat_minor": 2
}
