{
 "cells": [
  {
   "cell_type": "code",
   "execution_count": 2,
   "metadata": {},
   "outputs": [],
   "source": [
    "import pandas as pd\n",
    "import numpy as np\n",
    "\n",
    "import requests\n",
    "from geopy.geocoders import Nominatim"
   ]
  },
  {
   "attachments": {},
   "cell_type": "markdown",
   "metadata": {},
   "source": [
    "### Read the Finalized Data"
   ]
  },
  {
   "cell_type": "code",
   "execution_count": 3,
   "metadata": {},
   "outputs": [],
   "source": [
    "# Read the 'df_GmLgStBpFinal' data\n",
    "df_GmLgStBpFinal = pd.read_csv(\"https://media.githubusercontent.com/media/sharmajee499/MinneMUDAC2023/main/Data/df_GmLgStBpFinal.csv\")"
   ]
  },
  {
   "cell_type": "code",
   "execution_count": 4,
   "metadata": {},
   "outputs": [],
   "source": [
    "# Instantiate the Geolocator class(The parameter is just dummy name)\n",
    "geolocator = Nominatim(user_agent=\"ballParkLocation\")\n",
    "\n",
    "def fetch_weather(df, startYear: int, endYear:int):\n",
    "\n",
    "    temp_dict = {'Date': [],\n",
    "             'parkID': [],\n",
    "             'City':[],\n",
    "             'temp_unit': [],\n",
    "             'time_zone':[],\n",
    "             'rain_sum':[],\n",
    "             'snowfall_sum': [],\n",
    "             'precipitation_sum':[],\n",
    "             'temp_max': [],\n",
    "             'temp_min': [],\n",
    "             }\n",
    "\n",
    "    # Subset the data\n",
    "    df = df_GmLgStBpFinal[(df_GmLgStBpFinal['Year'] >= startYear) & (df_GmLgStBpFinal['Year'] <= startYear)]\n",
    "\n",
    "    for i in range(len(df)):\n",
    "\n",
    "        try:\n",
    "            location = geolocator.geocode(df['CITY_StdCap'][i])     \n",
    "\n",
    "            lati = location.latitude\n",
    "            longi = location.longitude\n",
    "\n",
    "            start_date = df['Date_Weather'][i]\n",
    "            end_date = df['Date_Weather'][i]\n",
    "\n",
    "            temp_unit = 'fahrenheit'\n",
    "\n",
    "            # URL to make call\n",
    "            url = f\"https://archive-api.open-meteo.com/v1/archive?latitude={lati}&longitude={longi}&start_date={start_date}&end_date={end_date}&daily=temperature_2m_max,temperature_2m_min,precipitation_sum,rain_sum,snowfall_sum&timezone=America%2FChicago&temperature_unit={temp_unit}\"\n",
    "    \n",
    "            # Call the URL\n",
    "            response = requests.get(url)\n",
    "\n",
    "                # Assign the data to the dictionary and it's respective keys\n",
    "            temp_dict['Date'].append(start_date)\n",
    "            temp_dict['parkID'].append(df['BallParkID'][i])\n",
    "            temp_dict['City'].append(df['CITY_StdCap'][i])\n",
    "            temp_dict['temp_unit'].append(temp_unit)\n",
    "            temp_dict['time_zone'].append(response.json()['timezone'])\n",
    "            temp_dict['rain_sum'].append(response.json()['daily']['rain_sum'][0])\n",
    "            temp_dict['snowfall_sum'].append(response.json()['daily']['snowfall_sum'][0])\n",
    "            temp_dict['precipitation_sum'].append(response.json()['daily']['precipitation_sum'][0])\n",
    "            temp_dict['temp_max'].append(response.json()['daily']['temperature_2m_max'][0])\n",
    "            temp_dict['temp_min'].append(response.json()['daily']['temperature_2m_min'][0])\n",
    "            print(response.json()['daily']['temperature_2m_min'][0])\n",
    "\n",
    "        except:\n",
    "            temp_dict['Date'].append(df['Date'][i])\n",
    "            temp_dict['parkID'].append(df['BallParkID'][i])\n",
    "            temp_dict['City'].append(df['CITY_StdCap'][i])\n",
    "            temp_dict['temp_unit'].append(temp_unit)\n",
    "            temp_dict['time_zone'].append(None)\n",
    "            temp_dict['rain_sum'].append(None)\n",
    "            temp_dict['snowfall_sum'].append(None)\n",
    "            temp_dict['precipitation_sum'].append(None)\n",
    "            temp_dict['temp_max'].append(None)\n",
    "            temp_dict['temp_min'].append(None)\n",
    "\n",
    "    df_temp = pd.DataFrame(temp_dict)\n",
    "\n",
    "    file_name = f\"{startYear}_{endYear}_weatherData.csv\"\n",
    "\n",
    "    df_temp.to_csv(file_name, index=False)"
   ]
  },
  {
   "cell_type": "code",
   "execution_count": null,
   "metadata": {},
   "outputs": [],
   "source": [
    "fetch_weather(df_GmLgStBpFinal, 2000, 2000)"
   ]
  }
 ],
 "metadata": {
  "kernelspec": {
   "display_name": "mudac",
   "language": "python",
   "name": "python3"
  },
  "language_info": {
   "codemirror_mode": {
    "name": "ipython",
    "version": 3
   },
   "file_extension": ".py",
   "mimetype": "text/x-python",
   "name": "python",
   "nbconvert_exporter": "python",
   "pygments_lexer": "ipython3",
   "version": "3.9.16"
  },
  "orig_nbformat": 4
 },
 "nbformat": 4,
 "nbformat_minor": 2
}
